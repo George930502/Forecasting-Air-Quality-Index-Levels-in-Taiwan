{
 "cells": [
  {
   "cell_type": "code",
   "execution_count": null,
   "metadata": {},
   "outputs": [
    {
     "name": "stderr",
     "output_type": "stream",
     "text": [
      "Processing Rows: 100%|██████████| 347891/347891 [00:12<00:00, 26903.87it/s]\n"
     ]
    },
    {
     "name": "stdout",
     "output_type": "stream",
     "text": [
      "FP-growth 計算時間: 1.04 秒\n",
      "FP-growth 計算完成，結果保存在 ./air_pollutants_0.08_result1.txt 和 ./air_pollutants_0.08_result2.txt\n"
     ]
    }
   ],
   "source": [
    "import pandas as pd\n",
    "from mlxtend.frequent_patterns import fpgrowth\n",
    "from mlxtend.preprocessing import TransactionEncoder\n",
    "import os\n",
    "import time\n",
    "import csv\n",
    "from tqdm import tqdm  \n",
    "\n",
    "def export_to_file(data, output_file_name):\n",
    "    \"\"\"將資料輸出到文件\"\"\"\n",
    "    with open(output_file_name, \"w\", newline='') as f:\n",
    "        writer = csv.writer(f, delimiter=',')\n",
    "        for row in data:\n",
    "            writer.writerow(row)\n",
    "\n",
    "def data_from_file(fname):\n",
    "    \"\"\"從 CSV 文件讀取數據，並返回交易數據列表\"\"\"\n",
    "    transactions = []\n",
    "    df = pd.read_csv(fname)\n",
    "    for _, row in tqdm(df.iterrows(), total=df.shape[0], desc=\"Processing Rows\"):  # 使用進度條\n",
    "        exceeded_indicators = row['Exceeded_Indicators']\n",
    "        if isinstance(exceeded_indicators, str):\n",
    "            exceeded_indicators = exceeded_indicators.strip('[]').replace(\"'\", \"\").split(\", \")\n",
    "            transactions.append(exceeded_indicators)\n",
    "    return transactions\n",
    "\n",
    "def write_frequent_itemsets_to_file(frequent_itemsets, total_transactions, filename='result_file_1.txt'):\n",
    "    \"\"\"輸出頻繁項集到文件，支持度以百分比表示，並保留到小數點後一位\"\"\"\n",
    "    with open(filename, 'w') as f:\n",
    "        # 寫入標題行\n",
    "        f.write(\"support_percentage\\titem_set\\n\")\n",
    "        for _, row in frequent_itemsets.iterrows():\n",
    "            item_set_str = f\"{{{', '.join(map(str, row['itemsets']))}}}\"\n",
    "            support_percentage = round(row['support'] * 100, 1)\n",
    "            f.write(f\"{support_percentage}\\t{item_set_str}\\n\")\n",
    "\n",
    "\n",
    "# 設定參數\n",
    "input_filename = '../exceeded_indicators_data.csv'  # 輸入檔案名稱\n",
    "min_support = 0.08  # 最小支持度\n",
    "output_path = '.'  # 輸出路徑\n",
    "\n",
    "# 讀取數據並轉換格式\n",
    "transactions = data_from_file(input_filename)\n",
    "total_transactions = len(transactions)\n",
    "\n",
    "# 開始計時\n",
    "start_time = time.time()\n",
    "\n",
    "te = TransactionEncoder()\n",
    "te_ary = te.fit(transactions).transform(transactions)\n",
    "df = pd.DataFrame(te_ary, columns=te.columns_)\n",
    "\n",
    "# 使用 mlxtend 中的 fpgrowth 方法 mining frequent_itemsets\n",
    "frequent_itemsets = fpgrowth(df, min_support=min_support, use_colnames=True)\n",
    "\n",
    "frequent_itemsets = frequent_itemsets.sort_values(by='support', ascending=False)\n",
    "\n",
    "# 結束計時\n",
    "end_time = time.time()\n",
    "elapsed_time = end_time - start_time\n",
    "\n",
    "# 輸出路徑\n",
    "os.makedirs(output_path, exist_ok=True)\n",
    "result_file = f\"{output_path}/air_pollutants_{min_support}_result1.txt\"\n",
    "count_file = f\"{output_path}/air_pollutants_{min_support}_result2.txt\"\n",
    "\n",
    "# 將結果輸出到文件\n",
    "write_frequent_itemsets_to_file(frequent_itemsets, total_transactions, result_file)\n",
    "with open(count_file, 'w') as f:\n",
    "    f.write(f\"{len(frequent_itemsets)}\\n\")\n",
    "\n",
    "# 輸出計算時間\n",
    "print(f\"FP-growth 計算時間: {elapsed_time:.2f} 秒\")\n",
    "print(f\"FP-growth 計算完成，結果保存在 {result_file} 和 {count_file}\")\n"
   ]
  }
 ],
 "metadata": {
  "kernelspec": {
   "display_name": "Python 3",
   "language": "python",
   "name": "python3"
  },
  "language_info": {
   "codemirror_mode": {
    "name": "ipython",
    "version": 3
   },
   "file_extension": ".py",
   "mimetype": "text/x-python",
   "name": "python",
   "nbconvert_exporter": "python",
   "pygments_lexer": "ipython3",
   "version": "3.9.10"
  }
 },
 "nbformat": 4,
 "nbformat_minor": 2
}
