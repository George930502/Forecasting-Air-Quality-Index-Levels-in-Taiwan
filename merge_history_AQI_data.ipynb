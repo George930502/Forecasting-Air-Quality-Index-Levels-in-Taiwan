{
 "cells": [
  {
   "cell_type": "code",
   "execution_count": null,
   "metadata": {},
   "outputs": [],
   "source": [
    "import os\n",
    "import pandas as pd\n",
    "\n",
    "def merge_csv_in_folders(directory, output_file):\n",
    "    all_data = []  \n",
    "    for root, _, files in os.walk(directory):\n",
    "        for file in files:\n",
    "            if file.endswith(\".csv\"): \n",
    "                file_path = os.path.join(root, file)\n",
    "                data = pd.read_csv(file_path, low_memory = False)\n",
    "                all_data.append(data)\n",
    "\n",
    "    merged_data = pd.concat(all_data, ignore_index = True)\n",
    "    merged_data.to_csv(output_file, index = False)\n",
    "\n",
    "input_directory = \"AQI_History_Data\"  \n",
    "output_csv = \"AQI_dataset.csv\" \n",
    "merge_csv_in_folders(input_directory, output_csv)"
   ]
  }
 ],
 "metadata": {
  "kernelspec": {
   "display_name": ".venv",
   "language": "python",
   "name": "python3"
  },
  "language_info": {
   "codemirror_mode": {
    "name": "ipython",
    "version": 3
   },
   "file_extension": ".py",
   "mimetype": "text/x-python",
   "name": "python",
   "nbconvert_exporter": "python",
   "pygments_lexer": "ipython3",
   "version": "3.12.7"
  }
 },
 "nbformat": 4,
 "nbformat_minor": 2
}
